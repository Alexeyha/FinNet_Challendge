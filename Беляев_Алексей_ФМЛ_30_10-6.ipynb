{
  "nbformat": 4,
  "nbformat_minor": 0,
  "metadata": {
    "colab": {
      "name": "Основы_численных_методов.ipynb",
      "provenance": [],
      "collapsed_sections": [],
      "include_colab_link": true
    },
    "kernelspec": {
      "name": "python3",
      "display_name": "Python 3"
    },
    "widgets": {
      "application/vnd.jupyter.widget-state+json": {
        "3eeb6aad2c384b3dad3add9d4fd2de7c": {
          "model_module": "@jupyter-widgets/controls",
          "model_name": "FloatSliderModel",
          "state": {
            "_view_name": "FloatSliderView",
            "style": "IPY_MODEL_1dbffc6b1f74414990b1489afb953bd2",
            "_dom_classes": [],
            "description": "лямбда:",
            "step": 0.1,
            "_model_name": "FloatSliderModel",
            "orientation": "horizontal",
            "max": 10,
            "_view_module": "@jupyter-widgets/controls",
            "_model_module_version": "1.5.0",
            "value": 7.5,
            "_view_count": null,
            "disabled": false,
            "_view_module_version": "1.5.0",
            "min": -10,
            "continuous_update": false,
            "readout_format": ".2f",
            "description_tooltip": null,
            "readout": true,
            "_model_module": "@jupyter-widgets/controls",
            "layout": "IPY_MODEL_d04412f706934d89a96bba0334d980e2"
          }
        },
        "1dbffc6b1f74414990b1489afb953bd2": {
          "model_module": "@jupyter-widgets/controls",
          "model_name": "SliderStyleModel",
          "state": {
            "_view_name": "StyleView",
            "handle_color": null,
            "_model_name": "SliderStyleModel",
            "description_width": "",
            "_view_module": "@jupyter-widgets/base",
            "_model_module_version": "1.5.0",
            "_view_count": null,
            "_view_module_version": "1.2.0",
            "_model_module": "@jupyter-widgets/controls"
          }
        },
        "d04412f706934d89a96bba0334d980e2": {
          "model_module": "@jupyter-widgets/base",
          "model_name": "LayoutModel",
          "state": {
            "_view_name": "LayoutView",
            "grid_template_rows": null,
            "right": null,
            "justify_content": null,
            "_view_module": "@jupyter-widgets/base",
            "overflow": null,
            "_model_module_version": "1.2.0",
            "_view_count": null,
            "flex_flow": null,
            "width": null,
            "min_width": null,
            "border": null,
            "align_items": null,
            "bottom": null,
            "_model_module": "@jupyter-widgets/base",
            "top": null,
            "grid_column": null,
            "overflow_y": null,
            "overflow_x": null,
            "grid_auto_flow": null,
            "grid_area": null,
            "grid_template_columns": null,
            "flex": null,
            "_model_name": "LayoutModel",
            "justify_items": null,
            "grid_row": null,
            "max_height": null,
            "align_content": null,
            "visibility": null,
            "align_self": null,
            "height": null,
            "min_height": null,
            "padding": null,
            "grid_auto_rows": null,
            "grid_gap": null,
            "max_width": null,
            "order": null,
            "_view_module_version": "1.2.0",
            "grid_template_areas": null,
            "object_position": null,
            "object_fit": null,
            "grid_auto_columns": null,
            "margin": null,
            "display": null,
            "left": null
          }
        },
        "de681bc946b44e2f954bb66641505f0a": {
          "model_module": "@jupyter-widgets/controls",
          "model_name": "FloatSliderModel",
          "state": {
            "_view_name": "FloatSliderView",
            "style": "IPY_MODEL_26e609e1bde44dbfb97845d8716d680a",
            "_dom_classes": [],
            "description": "x0:",
            "step": 0.1,
            "_model_name": "FloatSliderModel",
            "orientation": "horizontal",
            "max": 10,
            "_view_module": "@jupyter-widgets/controls",
            "_model_module_version": "1.5.0",
            "value": 7.5,
            "_view_count": null,
            "disabled": false,
            "_view_module_version": "1.5.0",
            "min": -10,
            "continuous_update": false,
            "readout_format": ".2f",
            "description_tooltip": null,
            "readout": true,
            "_model_module": "@jupyter-widgets/controls",
            "layout": "IPY_MODEL_a310e50cdc414a9699be4b7cf1273ce6"
          }
        },
        "26e609e1bde44dbfb97845d8716d680a": {
          "model_module": "@jupyter-widgets/controls",
          "model_name": "SliderStyleModel",
          "state": {
            "_view_name": "StyleView",
            "handle_color": null,
            "_model_name": "SliderStyleModel",
            "description_width": "",
            "_view_module": "@jupyter-widgets/base",
            "_model_module_version": "1.5.0",
            "_view_count": null,
            "_view_module_version": "1.2.0",
            "_model_module": "@jupyter-widgets/controls"
          }
        },
        "a310e50cdc414a9699be4b7cf1273ce6": {
          "model_module": "@jupyter-widgets/base",
          "model_name": "LayoutModel",
          "state": {
            "_view_name": "LayoutView",
            "grid_template_rows": null,
            "right": null,
            "justify_content": null,
            "_view_module": "@jupyter-widgets/base",
            "overflow": null,
            "_model_module_version": "1.2.0",
            "_view_count": null,
            "flex_flow": null,
            "width": null,
            "min_width": null,
            "border": null,
            "align_items": null,
            "bottom": null,
            "_model_module": "@jupyter-widgets/base",
            "top": null,
            "grid_column": null,
            "overflow_y": null,
            "overflow_x": null,
            "grid_auto_flow": null,
            "grid_area": null,
            "grid_template_columns": null,
            "flex": null,
            "_model_name": "LayoutModel",
            "justify_items": null,
            "grid_row": null,
            "max_height": null,
            "align_content": null,
            "visibility": null,
            "align_self": null,
            "height": null,
            "min_height": null,
            "padding": null,
            "grid_auto_rows": null,
            "grid_gap": null,
            "max_width": null,
            "order": null,
            "_view_module_version": "1.2.0",
            "grid_template_areas": null,
            "object_position": null,
            "object_fit": null,
            "grid_auto_columns": null,
            "margin": null,
            "display": null,
            "left": null
          }
        }
      }
    }
  },
  "cells": [
    {
      "cell_type": "markdown",
      "metadata": {
        "id": "view-in-github",
        "colab_type": "text"
      },
      "source": [
        "<a href=\"https://colab.research.google.com/github/Alexeyha/FinNet_Challendge/blob/master/%D0%91%D0%B5%D0%BB%D1%8F%D0%B5%D0%B2_%D0%90%D0%BB%D0%B5%D0%BA%D1%81%D0%B5%D0%B9_%D0%A4%D0%9C%D0%9B_30_10-6.ipynb\" target=\"_parent\"><img src=\"https://colab.research.google.com/assets/colab-badge.svg\" alt=\"Open In Colab\"/></a>"
      ]
    },
    {
      "cell_type": "markdown",
      "metadata": {
        "id": "dS34Urkelubg",
        "colab_type": "text"
      },
      "source": [
        "# Введение в численные методы\n",
        "Ниже написан код, реализующий метод простых итераций. Первое задание — подобрать коэффициент так, чтобы метод решал уравнение."
      ]
    },
    {
      "cell_type": "code",
      "metadata": {
        "id": "oEW5meyDmupU",
        "colab_type": "code",
        "outputId": "c18dda73-2576-4d43-caae-5be307582686",
        "colab": {
          "base_uri": "https://localhost:8080/",
          "height": 49,
          "referenced_widgets": [
            "3eeb6aad2c384b3dad3add9d4fd2de7c",
            "1dbffc6b1f74414990b1489afb953bd2",
            "d04412f706934d89a96bba0334d980e2"
          ]
        }
      },
      "source": [
        "from IPython.display import display\n",
        "from ipywidgets import FloatSlider\n",
        "\n",
        "fSlider = FloatSlider(\n",
        "    value=7.5, # Первоначальное значение\n",
        "    min=-10.0, # Минимум\n",
        "    max=10.0,  # Максимум\n",
        "    step=0.1,  # Шаг изменения\n",
        "    description='лямбда:',\n",
        "    continuous_update=False,\n",
        "    orientation='horizontal'\n",
        ")\n",
        "\n",
        "# Функция для решения:\n",
        "y = lambda x: x**2 - 5*x + 4\n",
        "# Корни данного уравнения 1 и 4\n",
        "\n",
        "# Точность\n",
        "eps = 10**-6\n",
        "\n",
        "def on_value_change(b):\n",
        "    print('lambda', '->', b['new'])\n",
        "    # Приводим к виду для итераций\n",
        "    phi = lambda x: x - b['new']*y(x)\n",
        "    x0 = 3.4\n",
        "    n = 0\n",
        "    while True:\n",
        "      try:\n",
        "        x = phi(x0)\n",
        "      except OverflowError:\n",
        "        print('Ошибка: Метод не сошелся')\n",
        "        break\n",
        "      if abs(x-x0) < eps:\n",
        "        break\n",
        "      x0 = x\n",
        "      n += 1\n",
        "\n",
        "    print(\"Численный ответ: \", x)\n",
        "    print('Количество итераций: ', n)\n",
        "\n",
        "fSlider.observe(on_value_change, names='value')\n",
        "display(fSlider)"
      ],
      "execution_count": 1,
      "outputs": [
        {
          "output_type": "display_data",
          "data": {
            "application/vnd.jupyter.widget-view+json": {
              "model_id": "3eeb6aad2c384b3dad3add9d4fd2de7c",
              "version_minor": 0,
              "version_major": 2
            },
            "text/plain": [
              "FloatSlider(value=7.5, continuous_update=False, description='лямбда:', max=10.0, min=-10.0)"
            ]
          },
          "metadata": {
            "tags": []
          }
        }
      ]
    },
    {
      "cell_type": "markdown",
      "metadata": {
        "id": "ANht4ePpuKL0",
        "colab_type": "text"
      },
      "source": [
        "Аналогичное исследование можно провести и для выбора x0. Теперь необходимо понять, когда количество итераций будет минимально:\n"
      ]
    },
    {
      "cell_type": "code",
      "metadata": {
        "id": "pXFPvxsVuV4S",
        "colab_type": "code",
        "outputId": "ecb0b49e-17eb-44f0-c347-5d8ad79edcc2",
        "colab": {
          "base_uri": "https://localhost:8080/",
          "height": 49,
          "referenced_widgets": [
            "de681bc946b44e2f954bb66641505f0a",
            "26e609e1bde44dbfb97845d8716d680a",
            "a310e50cdc414a9699be4b7cf1273ce6"
          ]
        }
      },
      "source": [
        "from IPython.display import display\n",
        "from ipywidgets import FloatSlider\n",
        "\n",
        "fSlider = FloatSlider(\n",
        "    value=7.5, # Первоначальное значение\n",
        "    min=-10.0, # Минимум\n",
        "    max=10.0,  # Максимум\n",
        "    step=0.1,  # Шаг изменения\n",
        "    description='x0:',\n",
        "    continuous_update=False,\n",
        "    orientation='horizontal'\n",
        ")\n",
        "\n",
        "# Функция для решения:\n",
        "y = lambda x: x**2 - 5*x + 4\n",
        "# Корни данного уравнения 1 и 4\n",
        "\n",
        "def on_value_change(b):\n",
        "    print('x0', '->', b['new'])\n",
        "    # Приводим к виду для итераций\n",
        "    # В данном примере из-за выбора лямбды метод должен сходится к 4-м\n",
        "    phi = lambda x: x - 0.5*y(x)\n",
        "    x0 = b['new']\n",
        "    n = 0\n",
        "    while True:\n",
        "      try:\n",
        "        x = phi(x0)\n",
        "      except OverflowError:\n",
        "        print('Ошибка: Метод не сошелся')\n",
        "        break\n",
        "      if abs(x-x0) < eps:\n",
        "        break\n",
        "      x0 = x\n",
        "      n += 1\n",
        "\n",
        "    print(\"Численный ответ: \", x)\n",
        "    print('Количество итераций: ', n)\n",
        "\n",
        "fSlider.observe(on_value_change, names='value')\n",
        "display(fSlider)"
      ],
      "execution_count": 2,
      "outputs": [
        {
          "output_type": "display_data",
          "data": {
            "application/vnd.jupyter.widget-view+json": {
              "model_id": "de681bc946b44e2f954bb66641505f0a",
              "version_minor": 0,
              "version_major": 2
            },
            "text/plain": [
              "FloatSlider(value=7.5, continuous_update=False, description='x0:', max=10.0, min=-10.0)"
            ]
          },
          "metadata": {
            "tags": []
          }
        }
      ]
    },
    {
      "cell_type": "markdown",
      "metadata": {
        "id": "HE30UIT0qK9d",
        "colab_type": "text"
      },
      "source": [
        "## Метод половинного деления\n",
        "Ниже представлен \"скелет\" программы, который надо дополнить так, чтобы получился метод дихотомии:"
      ]
    },
    {
      "cell_type": "code",
      "metadata": {
        "id": "r7JPmQw7Nztj",
        "colab_type": "code",
        "colab": {}
      },
      "source": [
        "# fdrkondor@gmail.com"
      ],
      "execution_count": 0,
      "outputs": []
    },
    {
      "cell_type": "code",
      "metadata": {
        "id": "moMJCeMwqmKv",
        "colab_type": "code",
        "outputId": "6234c4e0-ca0e-488d-e55d-c22f89491cd0",
        "colab": {
          "base_uri": "https://localhost:8080/",
          "height": 54
        }
      },
      "source": [
        "# Функция для решения:\n",
        "# (Можно написать свою)\n",
        "y = lambda x: x**3 - x**2 + x - 4\n",
        "# Корни данного уравнения 1 и 4\n",
        "\n",
        "# Здесь надо выбрать начальный отрезок:\n",
        "a = -10\n",
        "b = 10\n",
        "# Переменная, в которой будет ответ\n",
        "x = 0\n",
        "\n",
        "# Задаем точность:\n",
        "eps = 10**-6\n",
        "\n",
        "# Переменная-счетчик числа итераций:\n",
        "n = 0\n",
        "\n",
        "# Основной цикл:\n",
        "while True:\n",
        "  # Здесь основной код\n",
        "  # Добавить инкремент переменной счетчика\n",
        "  # Не забываем прописать условия выхода из цикла!\n",
        "  n += 1\n",
        "  x = (a + b) / 2\n",
        "  if abs(b - a) < 2 * eps or y(x) == 0:\n",
        "    break\n",
        "  x = (a+b)/2\n",
        "  if y(x) < 0:\n",
        "    a = x\n",
        "    x = (a+b)/2\n",
        "  else:\n",
        "    b = x\n",
        "  x = (a+b)/2\n",
        "print('Численный ответ: ', x)\n",
        "print('Число итераций: ', n)"
      ],
      "execution_count": 4,
      "outputs": [
        {
          "output_type": "stream",
          "text": [
            "Численный ответ:  1.7429596185684204\n",
            "Число итераций:  25\n"
          ],
          "name": "stdout"
        }
      ]
    },
    {
      "cell_type": "markdown",
      "metadata": {
        "id": "knOkCzHarr7V",
        "colab_type": "text"
      },
      "source": [
        "## Метод Ньютона\n",
        "Как известно, заменив коэффициент лямбда с константы на производную, мы получим метод Ньютона. Модифицируйте код МПИ так, чтобы он стал методом Ньютона и проведите сравнение — какой метод лучше. Для этого оцените число итераций, необходимых для получения результата."
      ]
    },
    {
      "cell_type": "code",
      "metadata": {
        "id": "FdIgaFBrsPxd",
        "colab_type": "code",
        "outputId": "1778393c-e44c-480c-918f-f8985f5ad11e",
        "colab": {
          "base_uri": "https://localhost:8080/",
          "height": 54
        }
      },
      "source": [
        "# Функция для решения:\n",
        "y = lambda x: x**3 - x**2 + x - 4\n",
        "# Корни данного уравнения 1 и \n",
        "l = 0.5\n",
        "der = lambda x: 3 * x**2 - 2 * x + 1\n",
        "\n",
        "eps = 10**-4\n",
        "\n",
        "# Приводим к виду для итераций\n",
        "phi = lambda x: x - 1/der(x) * y(x)\n",
        "x0 = 10\n",
        "n = 0\n",
        "\n",
        "while True:\n",
        "  try:\n",
        "    x = phi(x0)\n",
        "  except OverflowError:\n",
        "    print('Ошибка: Метод не сошелся')\n",
        "    break\n",
        "  if abs(x-x0) < eps:\n",
        "    break\n",
        "  n += 1\n",
        "  x0 = x\n",
        "\n",
        "print('Численный ответ: ', x)\n",
        "print('Число итераций: ', n)"
      ],
      "execution_count": 5,
      "outputs": [
        {
          "output_type": "stream",
          "text": [
            "Численный ответ:  1.742959202166315\n",
            "Число итераций:  8\n"
          ],
          "name": "stdout"
        }
      ]
    },
    {
      "cell_type": "markdown",
      "metadata": {
        "id": "W8GLr-NRtbUC",
        "colab_type": "text"
      },
      "source": [
        "## Метод секущих\n",
        "Задание аналогично предыдущему — модифицируйте код так, чтобы получился метод секущих."
      ]
    },
    {
      "cell_type": "code",
      "metadata": {
        "id": "AQoWEdUxtub3",
        "colab_type": "code",
        "outputId": "7ce13c70-026f-4d49-9af0-ede39791fa51",
        "colab": {
          "base_uri": "https://localhost:8080/",
          "height": 54
        }
      },
      "source": [
        "# Функция для решения:\n",
        "y = lambda x: x**3 - x**2 + x - 4\n",
        "# Корни данного уравнения 1 и \n",
        "eps = 10**-4\n",
        "# Приводим к виду для итераций\n",
        "# В этом задании phi специально сделана функцией двух переменных,\n",
        "# так как для разностной схемы надо предыдущее значение x\n",
        "der = lambda x, x0: (y(x)-y(x0))/(x-x0)\n",
        "phi = lambda x, x0: x - 1 / der(x, x0) * y(x)\n",
        "x0 = 10\n",
        "n = 0\n",
        "x = x0 + eps\n",
        "while True:\n",
        "  try:\n",
        "    x0, x = x, phi(x, x0)\n",
        "  except OverflowError:\n",
        "    print('Ошибка: Метод не сошелся')\n",
        "    break\n",
        "  n += 1\n",
        "  if abs(x-x0) < eps:\n",
        "    break\n",
        "  \n",
        "\n",
        "print('Численный ответ: ', x)\n",
        "print('Число итераций: ', n)"
      ],
      "execution_count": 6,
      "outputs": [
        {
          "output_type": "stream",
          "text": [
            "Численный ответ:  1.7429592676094483\n",
            "Число итераций:  11\n"
          ],
          "name": "stdout"
        }
      ]
    },
    {
      "cell_type": "markdown",
      "metadata": {
        "id": "KCaEV8luv6qk",
        "colab_type": "text"
      },
      "source": [
        "## Метод одной касательной\n",
        "Аналогично: модифицируйте предложенный метод так, чтобы получился методн одной касательной."
      ]
    },
    {
      "cell_type": "code",
      "metadata": {
        "id": "MQFAl2M7wODb",
        "colab_type": "code",
        "outputId": "ec90c8bb-d97e-4ad0-8ffa-53e8f1b3e61a",
        "colab": {
          "base_uri": "https://localhost:8080/",
          "height": 54
        }
      },
      "source": [
        "# Функция для решения:\n",
        "y = lambda x: x**3 - x**2 + x - 4\n",
        "# Корни данного уравнения 1 и \n",
        "der = lambda x: 3 * x**2 - 2 * x + 1\n",
        "x0 = 3.4\n",
        "l = 1 / der(x0)\n",
        "\n",
        "eps = 10**-4\n",
        "\n",
        "# Приводим к виду для итераций\n",
        "phi = lambda x: x - l*y(x)\n",
        "\n",
        "while True:\n",
        "  try:\n",
        "    x = phi(x0)\n",
        "  except OverflowError:\n",
        "    print('Ошибка: Метод не сошелся')\n",
        "    break\n",
        "  if abs(x-x0) < eps:\n",
        "    break\n",
        "  n += 1\n",
        "  x0 = x\n",
        "\n",
        "print('Численный ответ: ', x)\n",
        "print('Число итераций: ', n)"
      ],
      "execution_count": 7,
      "outputs": [
        {
          "output_type": "stream",
          "text": [
            "Численный ответ:  1.7432444613610614\n",
            "Число итераций:  39\n"
          ],
          "name": "stdout"
        }
      ]
    },
    {
      "cell_type": "markdown",
      "metadata": {
        "id": "1nwws39M6OTe",
        "colab_type": "text"
      },
      "source": [
        "Лучшее значение по количеству итераций показал метод Ньютона."
      ]
    },
    {
      "cell_type": "markdown",
      "metadata": {
        "id": "k48NS6SsJYQQ",
        "colab_type": "text"
      },
      "source": [
        "# Интегрирование"
      ]
    },
    {
      "cell_type": "markdown",
      "metadata": {
        "id": "2NfLRmaJMf8v",
        "colab_type": "text"
      },
      "source": [
        "Функция: exp(2x) / (x^2+1) * sin(x)\n",
        "\n",
        "Промежуток: от -2 до 3\n",
        "\n",
        "Количество промежутков: 50 (Для метода трапеции)\n",
        "\n",
        "Количество узлов: 6 (Для метода Гаусса)"
      ]
    },
    {
      "cell_type": "code",
      "metadata": {
        "id": "aGp8shLU5fBL",
        "colab_type": "code",
        "colab": {}
      },
      "source": [
        "import math"
      ],
      "execution_count": 0,
      "outputs": []
    },
    {
      "cell_type": "markdown",
      "metadata": {
        "id": "YdJXK0ykJpSQ",
        "colab_type": "text"
      },
      "source": [
        "## Метод трапеции"
      ]
    },
    {
      "cell_type": "code",
      "metadata": {
        "id": "2LGGYNS_QxfC",
        "colab_type": "code",
        "colab": {}
      },
      "source": [
        "def int_trap(func, a, b, n):\n",
        "  if a > b:\n",
        "    a, b = b, a\n",
        "  d = (b - a) / float(n)\n",
        "  res = sum([(0.5 * d * (func(a + (i * d)) + func(a  + ((i + 1) * d)))) for i in range(n)])\n",
        "  return res"
      ],
      "execution_count": 0,
      "outputs": []
    },
    {
      "cell_type": "code",
      "metadata": {
        "id": "NZXyMhPfNceN",
        "colab_type": "code",
        "colab": {
          "base_uri": "https://localhost:8080/",
          "height": 35
        },
        "outputId": "51a38fd5-ba03-49c6-fe8f-93e53f503180"
      },
      "source": [
        "func = lambda x: math.exp(2*x) * math.sin(x) / (x**2 + 1)\n",
        "a = 1\n",
        "b = 3\n",
        "n = 1000\n",
        "int_trap(func, a, b, n)"
      ],
      "execution_count": 10,
      "outputs": [
        {
          "output_type": "execute_result",
          "data": {
            "text/plain": [
              "17.126492385714876"
            ]
          },
          "metadata": {
            "tags": []
          },
          "execution_count": 10
        }
      ]
    },
    {
      "cell_type": "markdown",
      "metadata": {
        "id": "DuOQWBB0Ju8P",
        "colab_type": "text"
      },
      "source": [
        "## Метод Гаусса"
      ]
    },
    {
      "cell_type": "code",
      "metadata": {
        "id": "plymENTGUiKq",
        "colab_type": "code",
        "colab": {}
      },
      "source": [
        "import numpy as np"
      ],
      "execution_count": 0,
      "outputs": []
    },
    {
      "cell_type": "code",
      "metadata": {
        "id": "W4yUBGa9Qq6B",
        "colab_type": "code",
        "colab": {}
      },
      "source": [
        "def data_pre(x, a, b):\n",
        "  return np.array([(a+b)/2]*6) + (b-a)/2 * np.array(x)"
      ],
      "execution_count": 0,
      "outputs": []
    },
    {
      "cell_type": "code",
      "metadata": {
        "id": "0G8csPzjxfxH",
        "colab_type": "code",
        "colab": {}
      },
      "source": [
        "def int_gaus(func, a, b):\n",
        "  x = [-0.93247, -0.6612094, -0.2386142, 0.2386142, 0.6612094, 0.93247]\n",
        "  k = [0.1713245, 0.3607616, 0.467914, 0.4679140, 0.3607616, 0.1713245]\n",
        "  x = data_pre(x, a, b)\n",
        "  res = sum([(k[i] * func(x[i])) for i in range(6)]) * (b-a)/2\n",
        "  return res"
      ],
      "execution_count": 0,
      "outputs": []
    },
    {
      "cell_type": "code",
      "metadata": {
        "id": "1w7l11KFRu_P",
        "colab_type": "code",
        "colab": {
          "base_uri": "https://localhost:8080/",
          "height": 35
        },
        "outputId": "519a8034-5eca-4653-93df-ff4ef0b12f81"
      },
      "source": [
        "func = lambda x: math.exp(2*x) * math.sin(x) / (x**2 + 1)\n",
        "a = 1\n",
        "b = 3\n",
        "int_gaus(func, a, b)"
      ],
      "execution_count": 14,
      "outputs": [
        {
          "output_type": "execute_result",
          "data": {
            "text/plain": [
              "17.126509378965775"
            ]
          },
          "metadata": {
            "tags": []
          },
          "execution_count": 14
        }
      ]
    },
    {
      "cell_type": "markdown",
      "metadata": {
        "id": "VFJuGS2e6HUg",
        "colab_type": "text"
      },
      "source": [
        "Численно ответы совпали с правильным."
      ]
    },
    {
      "cell_type": "markdown",
      "metadata": {
        "id": "BBjxpHuDxf0J",
        "colab_type": "text"
      },
      "source": [
        "## Метод Эйлера"
      ]
    },
    {
      "cell_type": "code",
      "metadata": {
        "id": "07i72xNexf27",
        "colab_type": "code",
        "colab": {}
      },
      "source": [
        "def int_el(x0, v0, c, m, g, n):\n",
        "  x = [x0]\n",
        "  v = [v0]\n",
        "  a = 0\n",
        "  dt = 0.01\n",
        "  for i in range(n):\n",
        "    a = g - c * x[i] / m\n",
        "    v.append(v[i] + a * dt)\n",
        "    x.append(x[i] + v[i+1]*dt)\n",
        "  return x, v"
      ],
      "execution_count": 0,
      "outputs": []
    },
    {
      "cell_type": "code",
      "metadata": {
        "id": "zrRVhcx5xf5T",
        "colab_type": "code",
        "colab": {}
      },
      "source": [
        "x0 = 0\n",
        "v0 = 12\n",
        "c = 150\n",
        "m = 3\n",
        "g = 9.81\n",
        "n = 1000\n",
        "x, v = int_el(x0, v0, c, m, g, n)"
      ],
      "execution_count": 0,
      "outputs": []
    },
    {
      "cell_type": "code",
      "metadata": {
        "id": "fhefmwD0xf72",
        "colab_type": "code",
        "colab": {
          "base_uri": "https://localhost:8080/",
          "height": 995
        },
        "outputId": "3fc49281-94b1-478a-9ca8-0f99913ad8aa"
      },
      "source": [
        "import matplotlib.pyplot as plt\n",
        "plt.figure(figsize=(28, 8))\n",
        "plt.plot(x)\n",
        "plt.xlabel(\"n, oscillation\", size=16)\n",
        "plt.ylabel(\"x, coordinate\", size=16)\n",
        "plt.ylim(-15, 15)\n",
        "plt.show()\n",
        "plt.figure(figsize=(28, 8))\n",
        "plt.plot(v, color='red')\n",
        "plt.xlabel(\"n, oscillation\", size=16)\n",
        "plt.ylabel(\"v, speed\", size=16)\n",
        "plt.ylim(-15, 15)\n",
        "plt.show()"
      ],
      "execution_count": 17,
      "outputs": [
        {
          "output_type": "display_data",
          "data": {
            "image/png": "[encoded data removed]",
            "text/plain": [
              "<Figure size 2016x576 with 1 Axes>"
            ]
          },
          "metadata": {
            "tags": [],
            "needs_background": "light"
          }
        },
        {
          "output_type": "display_data",
          "data": {
            "image/png": "[encoded data removed]",
            "text/plain": [
              "<Figure size 2016x576 with 1 Axes>"
            ]
          },
          "metadata": {
            "tags": [],
            "needs_background": "light"
          }
        }
      ]
    }
  ]
}